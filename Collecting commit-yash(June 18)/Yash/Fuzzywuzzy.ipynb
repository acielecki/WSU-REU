{
 "cells": [
  {
   "cell_type": "code",
   "execution_count": 65,
   "metadata": {},
   "outputs": [],
   "source": [
    "import pandas as pd \n",
    "from fuzzywuzzy import fuzz \n",
    "from fuzzywuzzy import process\n",
    "def checker(wrong_options,correct_options):\n",
    "    names_array=[]\n",
    "    ratio_array=[]    \n",
    "    for wrong_option in wrong_options:\n",
    "        if wrong_option in correct_options:\n",
    "           names_array.append(wrong_option)\n",
    "           ratio_array.append('100')\n",
    "        else:   \n",
    "            x=process.extractOne(wrong_option,correct_options,scorer=fuzz.partial_ratio)\n",
    "            names_array.append(x[0])\n",
    "            ratio_array.append(x[1])\n",
    "    return names_array,ratio_array"
   ]
  },
  {
   "cell_type": "code",
   "execution_count": 117,
   "metadata": {},
   "outputs": [],
   "source": [
    "df_Original_List=pd.read_csv(\"699.csv\")"
   ]
  },
  {
   "cell_type": "code",
   "execution_count": 118,
   "metadata": {},
   "outputs": [],
   "source": [
    "df_To_beMatched=pd.read_csv(\"vue.csv\")"
   ]
  },
  {
   "cell_type": "code",
   "execution_count": 119,
   "metadata": {},
   "outputs": [],
   "source": [
    "str2Match = df_To_beMatched['commit.message'].fillna('######').tolist()\n",
    "strOptions =df_Original_List['CWE-ID'].fillna('######').tolist()"
   ]
  },
  {
   "cell_type": "code",
   "execution_count": null,
   "metadata": {
    "scrolled": true
   },
   "outputs": [],
   "source": [
    "name_match,ratio_match=checker(str2Match,strOptions)"
   ]
  },
  {
   "cell_type": "code",
   "execution_count": null,
   "metadata": {},
   "outputs": [],
   "source": [
    "dfm = pd.DataFrame()\n",
    "dfm['commit.message']=pd.Series(str2Match)\n",
    "dfm['security code']=pd.Series(name_match)\n",
    "dfm['correct_ratio']=pd.Series(ratio_match)"
   ]
  },
  {
   "cell_type": "code",
   "execution_count": null,
   "metadata": {},
   "outputs": [],
   "source": [
    "for ratio in (dfm['correct_ratio']):\n",
    "    dfm2=(dfm[dfm.correct_ratio>80]) \n",
    "dfm2"
   ]
  },
  {
   "cell_type": "code",
   "execution_count": null,
   "metadata": {},
   "outputs": [],
   "source": [
    "dfx = pd.read_fwf('/Users/pandit_ji/Desktop/assessment.txt')\n",
    "dfx.columns=['CWE-ID']\n",
    "str2Match = df_To_beMatched['commit.message'].fillna('######').tolist()\n",
    "strOptions =df_Original_List['CWE-ID'].fillna('######').tolist()\n",
    "name_match,ratio_match=checker(str2Match,strOptions)\n",
    "dfm3 = pd.DataFrame()\n",
    "dfm3['commit.message']=pd.Series(str2Match)\n",
    "dfm3['security code']=pd.Series(name_match)\n",
    "dfm3['correct_ratio']=pd.Series(ratio_match)\n",
    "for ratio in (dfm3['correct_ratio']):\n",
    "    dfm3=(dfm3[dfm3.correct_ratio>80])  \n",
    "dfm4"
   ]
  }
 ],
 "metadata": {
  "kernelspec": {
   "display_name": "Python 3",
   "language": "python",
   "name": "python3"
  },
  "language_info": {
   "codemirror_mode": {
    "name": "ipython",
    "version": 3
   },
   "file_extension": ".py",
   "mimetype": "text/x-python",
   "name": "python",
   "nbconvert_exporter": "python",
   "pygments_lexer": "ipython3",
   "version": "3.7.3"
  }
 },
 "nbformat": 4,
 "nbformat_minor": 2
}
